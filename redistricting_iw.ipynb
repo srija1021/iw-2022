{
 "cells": [
  {
   "cell_type": "code",
   "execution_count": 1,
   "id": "a8026075",
   "metadata": {},
   "outputs": [],
   "source": [
    "from gerrychain import (Graph, Partition, Election, MarkovChain,\n",
    "                        proposals, updaters, constraints, accept)\n",
    "from gerrychain.updaters import Tally, cut_edges\n",
    "from functools import partial\n",
    "import pandas as pd\n",
    "import geopandas as gpd\n",
    "\n",
    "import matplotlib.pyplot as plt\n",
    "import numpy as np"
   ]
  },
  {
   "cell_type": "markdown",
   "id": "ee02deb8",
   "metadata": {},
   "source": [
    "## Upload state information"
   ]
  },
  {
   "cell_type": "code",
   "execution_count": 3,
   "id": "748396f1",
   "metadata": {},
   "outputs": [],
   "source": [
    "basic_st_info = pd.read_csv('state_data.csv')"
   ]
  },
  {
   "cell_type": "code",
   "execution_count": 4,
   "id": "4ec18dc8",
   "metadata": {},
   "outputs": [],
   "source": [
    "exclude = ['Alaska', 'Delaware', 'Hawaii', 'Idaho', 'Kentucky', 'Maine', 'Montana', \n",
    "           'New Hampshire', 'North Dakota', 'Rhode Island', 'South Dakota', 'Vermont', \n",
    "           'West Virginia', 'Wyoming', 'California', 'Oregon', 'Massachusetts']"
   ]
  },
  {
   "cell_type": "code",
   "execution_count": 5,
   "id": "8eec449a",
   "metadata": {},
   "outputs": [],
   "source": [
    "select = [(name in exclude) for name in basic_st_info['name']]\n",
    "to_drop = basic_st_info.loc[select].index\n",
    "basic_st_info = basic_st_info.drop(to_drop)\n",
    "basic_st_info = basic_st_info.reset_index(drop=True)"
   ]
  },
  {
   "cell_type": "code",
   "execution_count": 7,
   "id": "cfe3048f",
   "metadata": {},
   "outputs": [],
   "source": [
    "st_data = {}\n",
    "for i, st in enumerate(states):\n",
    "    info = {}\n",
    "    info['name'] = basic_st_info.loc[i, 'name']\n",
    "    fips = basic_st_info.loc[i, 'fips']\n",
    "    if fips < 10:\n",
    "        info['fips'] = '0' + str(fips)\n",
    "    else:\n",
    "        info['fips'] = str(fips)\n",
    "    st_data[st] = info"
   ]
  },
  {
   "cell_type": "markdown",
   "id": "22c7bbd1",
   "metadata": {},
   "source": [
    "## Functions to process data"
   ]
  },
  {
   "cell_type": "code",
   "execution_count": 333,
   "id": "ebdb0a97",
   "metadata": {},
   "outputs": [],
   "source": [
    "def clean_extra_rows(dat):\n",
    "    first_index = 0\n",
    "    for geoid in dat[\"GEOID20\"]:\n",
    "        if geoid[0] == \"B\":\n",
    "            break\n",
    "        else:\n",
    "            first_index += 1\n",
    "    \n",
    "    orig_length = len(dat)\n",
    "    weird_rows = dat.loc[first_index:orig_length]\n",
    "    \n",
    "    dat = dat.drop(list(range(first_index, orig_length)))\n",
    "    \n",
    "    curr = first_index\n",
    "    while curr < orig_length:\n",
    "        new_id = weird_rows.loc[curr, 'FriendlyId'][0:11]\n",
    "        weird_rows.loc[curr, 'GEOID20'] = new_id\n",
    "        while (curr+1) < orig_length:\n",
    "            if weird_rows.loc[curr+1, 'FriendlyId'][0:11] == new_id:\n",
    "                weird_rows = weird_rows.drop(curr+1)\n",
    "                curr += 1\n",
    "            else:\n",
    "                break\n",
    "        curr += 1\n",
    "    \n",
    "    dat = dat.append(weird_rows, ignore_index=True)\n",
    "    return dat"
   ]
  },
  {
   "cell_type": "code",
   "execution_count": 334,
   "id": "acdb73d4",
   "metadata": {},
   "outputs": [],
   "source": [
    "def index_of_dups(array):\n",
    "    seen = set()\n",
    "    index = set()\n",
    "    for i, elem in enumerate(array):\n",
    "        if elem in seen:\n",
    "            index.add(i)\n",
    "        else:\n",
    "            seen.add(elem)\n",
    "    return index"
   ]
  },
  {
   "cell_type": "code",
   "execution_count": 335,
   "id": "2081e389",
   "metadata": {},
   "outputs": [],
   "source": [
    "def fix_Florida(dat, census):\n",
    "    unique_ids = set()\n",
    "    for i, geoid in enumerate(dat['GEOID20']):\n",
    "        if not census['GEOID20'].str.contains(geoid).any():\n",
    "            if geoid[0:11] not in unique_ids:\n",
    "                unique_ids.add(geoid[0:11])\n",
    "                dat.loc[i, 'GEOID20'] = geoid[0:11]\n",
    "            else:\n",
    "                dat = dat.drop(i)\n",
    "                \n",
    "    dat = dat.reset_index(drop=True)\n",
    "    dat = dat.drop_duplicates(subset=['GEOID20'])\n",
    "    dat = dat.reset_index(drop=True)\n",
    "    return dat"
   ]
  },
  {
   "cell_type": "code",
   "execution_count": 336,
   "id": "e614782d",
   "metadata": {},
   "outputs": [],
   "source": [
    "def get_map(state, kind, ret_census):\n",
    "    try:\n",
    "        # load state census data (geometry for vtds)\n",
    "        f_name = \"tl_2020_\" + st_data[state]['fips'] + \"_vtd20\"\n",
    "        census = gpd.read_file(f_name + \"/\" + f_name + \".shp\")\n",
    "\n",
    "        # load data for state's most proportionally representative map\n",
    "        dat = pd.read_csv(kind + \"_maps/\" + st_data[state]['fips'] + \".csv\")\n",
    "        dat = dat.astype({'GEOID20': str, 'FriendlyId': str})\n",
    "        \n",
    "        # clear weird rows at the end of the dataframe\n",
    "        if len(dat) != len(census):\n",
    "            dat = clean_extra_rows(dat)\n",
    "\n",
    "        if state == 'FL':\n",
    "            dat = fix_Florida(dat, census)\n",
    "            \n",
    "        if len(dat) != len(census):\n",
    "            raise Exception(\"Error! length of dataset != length of census\")\n",
    "        \n",
    "        if ret_census:\n",
    "            return dat, census\n",
    "        else:\n",
    "            return dat\n",
    "    \n",
    "    except Exception as e:\n",
    "        print(state, \"\\b:\", e)"
   ]
  },
  {
   "cell_type": "markdown",
   "id": "a48165b4",
   "metadata": {},
   "source": [
    "## Upload proposed maps"
   ]
  },
  {
   "cell_type": "code",
   "execution_count": 12,
   "id": "ee3ed8b5",
   "metadata": {},
   "outputs": [],
   "source": [
    "for state in states:\n",
    "    st_data[state]['proposed'] = get_map(state, 'proposed', False)"
   ]
  },
  {
   "cell_type": "markdown",
   "id": "0b9e02ad",
   "metadata": {},
   "source": [
    "## Add actual wins and EGs to state data"
   ]
  },
  {
   "cell_type": "code",
   "execution_count": 13,
   "id": "690121b0",
   "metadata": {},
   "outputs": [],
   "source": [
    "state_results = {}\n",
    "for state in states:\n",
    "    state_results[state] = {}"
   ]
  },
  {
   "cell_type": "code",
   "execution_count": 14,
   "id": "3450e600",
   "metadata": {},
   "outputs": [],
   "source": [
    "def get_actual_wins(state):\n",
    "    df = st_data[state]['proposed']\n",
    "    dem_wins = 0\n",
    "    rep_wins = 0\n",
    "    district_nums = pd.unique(df['District'])\n",
    "    for district in district_nums:\n",
    "        d_rows = df.loc[df['District'] == district]\n",
    "        dem_votes = sum(d_rows['Dem_2020_Pres'])\n",
    "        rep_votes = sum(d_rows['Rep_2020_Pres'])\n",
    "        if dem_votes > rep_votes:\n",
    "            dem_wins += 1\n",
    "        elif rep_votes > dem_votes:\n",
    "            rep_wins += 1\n",
    "            \n",
    "    return dem_wins, rep_wins"
   ]
  },
  {
   "cell_type": "code",
   "execution_count": 15,
   "id": "dca47cbd",
   "metadata": {},
   "outputs": [],
   "source": [
    "def get_efficiency_gap(state):\n",
    "    df = st_data[state]['proposed']\n",
    "    total_wasted_rep = 0\n",
    "    total_wasted_dem = 0\n",
    "    \n",
    "    district_nums = pd.unique(df['District'])\n",
    "    for district in district_nums:\n",
    "        d_rows = df.loc[df['District'] == district]\n",
    "        dem = sum(d_rows['Dem_2020_Pres'])\n",
    "        rep = sum(d_rows['Rep_2020_Pres'])\n",
    "        total = dem + rep\n",
    "        if dem > rep:\n",
    "            total_wasted_rep += rep\n",
    "            total_wasted_dem += dem - int(0.51 * total)\n",
    "        elif rep > dem:\n",
    "            total_wasted_dem += dem\n",
    "            total_wasted_rep += rep - int(0.51 * total)\n",
    "    total_votes = sum(df['Total_2020_Pres'])\n",
    "    \n",
    "    eg = (total_wasted_dem - total_wasted_rep) / total_votes\n",
    "    return eg"
   ]
  },
  {
   "cell_type": "code",
   "execution_count": 529,
   "id": "7d587f50",
   "metadata": {},
   "outputs": [],
   "source": [
    "def eg_to_seats(state, eg):\n",
    "    df = st_data[state]['proposed']\n",
    "    num_districts = len(pd.unique(df['District']))\n",
    "    return eg * num_districts"
   ]
  },
  {
   "cell_type": "code",
   "execution_count": 530,
   "id": "82767f08",
   "metadata": {},
   "outputs": [],
   "source": [
    "for state in states:\n",
    "    try:\n",
    "        dem, rep = get_actual_wins(state)\n",
    "        st_data[state]['D_actual'] = dem\n",
    "        st_data[state]['R_actual'] = rep\n",
    "        \n",
    "        eg = get_efficiency_gap(state)\n",
    "        state_results[state]['eg'] = eg\n",
    "        eg_seats = eg_to_seats(state, eg)\n",
    "        state_results[state]['eg_seats'] = eg_seats\n",
    "        \n",
    "    except Exception as e:\n",
    "        print(state, '\\b:', e)"
   ]
  },
  {
   "cell_type": "markdown",
   "id": "be546d6f",
   "metadata": {},
   "source": [
    "## Run MCMC"
   ]
  },
  {
   "cell_type": "code",
   "execution_count": 20,
   "id": "31092070",
   "metadata": {},
   "outputs": [],
   "source": [
    "import logging\n",
    "import threading\n",
    "import time"
   ]
  },
  {
   "cell_type": "code",
   "execution_count": 286,
   "id": "cba0f2ab",
   "metadata": {},
   "outputs": [],
   "source": [
    "def make_gdf(census, dat):\n",
    "    vtd_shapes = gpd.GeoSeries()\n",
    "    for i, geoid in enumerate(dat['GEOID20']):\n",
    "        # shape associated with current geoid\n",
    "        shape = census.loc[census['GEOID20'] == geoid, 'geometry']\n",
    "        vtd_shapes = vtd_shapes.append(shape, ignore_index=True)\n",
    "    gdat = gpd.GeoDataFrame(dat, geometry=vtd_shapes)\n",
    "    return gdat"
   ]
  },
  {
   "cell_type": "code",
   "execution_count": 289,
   "id": "88614e72",
   "metadata": {},
   "outputs": [],
   "source": [
    "def run_Markov_chain(state):\n",
    "    logging.info(\"Thread %s: starting\", state)\n",
    "    \n",
    "    try:\n",
    "        prop_rep, census = get_map(state, 'prop_rep', True)\n",
    "        gdat = make_gdf(census, prop_rep)\n",
    "\n",
    "        # begin performing gerrychain\n",
    "        dual_graph = Graph.from_geodataframe(gdat)\n",
    "\n",
    "        election_updaters = {\"PRES20\": Election(\"PRES20\", {\"Democratic\": \"Dem_2020_Pres\", \"Republican\": \"Rep_2020_Pres\"})}\n",
    "\n",
    "        my_updaters = {\"population\": Tally(\"Total_2020_Total\", alias=\"population\"),\n",
    "                       \"cut_edges\": cut_edges}\n",
    "        my_updaters.update(election_updaters)\n",
    "\n",
    "        initial_partition = Partition(\n",
    "            dual_graph,\n",
    "            assignment='District',\n",
    "            updaters=my_updaters\n",
    "        )\n",
    "\n",
    "        ideal_population = sum(initial_partition[\"population\"].values()) / len(initial_partition)\n",
    "        proposal = partial(proposals.recom,\n",
    "                           pop_col=\"Total_2020_Total\",\n",
    "                           pop_target=ideal_population,\n",
    "                           epsilon=0.02,\n",
    "                           node_repeats=2\n",
    "                          )\n",
    "\n",
    "        compactness_constraint = constraints.UpperBound(\n",
    "            lambda p: len(p[\"cut_edges\"]),\n",
    "            2*len(initial_partition[\"cut_edges\"])\n",
    "        )\n",
    "\n",
    "        chain = MarkovChain(\n",
    "            proposal=proposal,\n",
    "            constraints=[\n",
    "                compactness_constraint\n",
    "            ],\n",
    "            accept=accept.always_accept,\n",
    "            initial_state=initial_partition,\n",
    "            total_steps=5000\n",
    "        )\n",
    "        \n",
    "        D_wins20 = []\n",
    "        R_wins20 = []\n",
    "        start_time = time.time()\n",
    "\n",
    "        for i, current_partition in enumerate(chain):\n",
    "            D_wins20.append(current_partition[\"PRES20\"].wins(\"Democratic\"))   # track number of dem wins in 2020\n",
    "            R_wins20.append(current_partition[\"PRES20\"].wins(\"Republican\"))   # track number of rep wins in 2020\n",
    "\n",
    "        print((state + \" --- %.2f minutes ---\") % ((time.time() - start_time) / 60))\n",
    "            \n",
    "        state_results[state]['D_wins20'] = D_wins20\n",
    "        state_results[state]['R_wins20'] = R_wins20\n",
    "        \n",
    "    except Exception as e:\n",
    "        print(state, \"\\b:\", e)\n",
    "        print()\n",
    "    \n",
    "    logging.info(\"Thread %s: finishing\", state)"
   ]
  },
  {
   "cell_type": "markdown",
   "id": "ae3eb009",
   "metadata": {},
   "source": [
    "### Code for threading adapted from: https://realpython.com/intro-to-python-threading/"
   ]
  },
  {
   "cell_type": "code",
   "execution_count": null,
   "id": "aedea169",
   "metadata": {},
   "outputs": [],
   "source": [
    "format = \"%(asctime)s: %(message)s\"\n",
    "logging.basicConfig(format=format, level=logging.INFO,\n",
    "                    datefmt=\"%H:%M:%S\")\n",
    "\n",
    "threads = list()\n",
    "for state in states:\n",
    "    logging.info(\"Main    : create and start thread %d.\", state)\n",
    "    x = threading.Thread(target=run_Markov_chain, args=(state,))\n",
    "    threads.append(x)\n",
    "    x.start()\n",
    "\n",
    "for index, thread in enumerate(threads):\n",
    "    logging.info(\"Main    : before joining thread %d.\", states[index])\n",
    "    thread.join()\n",
    "    logging.info(\"Main    : thread %d done\", states[index])"
   ]
  },
  {
   "cell_type": "markdown",
   "id": "0d7177e8",
   "metadata": {},
   "source": [
    "## Save results of MCMC"
   ]
  },
  {
   "cell_type": "code",
   "execution_count": 268,
   "id": "a42c804a",
   "metadata": {},
   "outputs": [],
   "source": [
    "D_results = pd.DataFrame(index=list(range(5000)))\n",
    "R_results = pd.DataFrame(index=list(range(5000)))"
   ]
  },
  {
   "cell_type": "code",
   "execution_count": 269,
   "id": "0973c9fe",
   "metadata": {},
   "outputs": [],
   "source": [
    "for state in states:\n",
    "    D_results[state] = state_results[state]['D_wins20']\n",
    "    R_results[state] = state_results[state]['R_wins20']"
   ]
  },
  {
   "cell_type": "code",
   "execution_count": 270,
   "id": "5d2e04fd",
   "metadata": {},
   "outputs": [],
   "source": [
    "D_results.to_csv('D_results.csv')"
   ]
  },
  {
   "cell_type": "code",
   "execution_count": 271,
   "id": "4244c059",
   "metadata": {},
   "outputs": [],
   "source": [
    "R_results.to_csv('R_results.csv')"
   ]
  },
  {
   "cell_type": "markdown",
   "id": "be6c36d0",
   "metadata": {},
   "source": [
    "## Make histograms"
   ]
  },
  {
   "cell_type": "code",
   "execution_count": 383,
   "id": "afc6b40e",
   "metadata": {},
   "outputs": [],
   "source": [
    "def save_dem_hist(state, folder):\n",
    "    dem_wins = st_data[state]['D_actual']\n",
    "    data = state_results[state]['D_wins20']\n",
    "    \n",
    "    fig = plt.figure(figsize=(11,11))\n",
    "    \n",
    "    data = np.array(data)\n",
    "    d = np.diff(np.unique(data)).min()\n",
    "    d_min, d_max = data.min(), data.max()\n",
    "    left = d_min - float(d)/2\n",
    "    right = d_max + float(d)/2\n",
    "    \n",
    "    plt.hist(data, bins=np.arange(left, right + d, d), color='grey',\n",
    "             edgecolor='white')\n",
    "    plt.axvline(x=dem_wins, color='blue')\n",
    "    \n",
    "    main_ticks = np.arange(d_min, d_max+1, 1)\n",
    "    dem_tick = np.array([dem_wins])\n",
    "    total_ticks = np.concatenate((dem_tick, main_ticks))\n",
    "    \n",
    "    plt.xticks(np.unique(total_ticks), fontsize=22)\n",
    "    fig.supxlabel('Number of Democrat Seats Won', fontsize=24, y=0.04)\n",
    "    fig.supylabel('Count', fontsize=24, x=0)\n",
    "    plt.suptitle(st_data[state]['name'], size=28, y=0.94)\n",
    "    plt.yticks(fontsize=22)\n",
    "    \n",
    "    # plt.show()\n",
    "    plt.savefig(folder + '/' + state + '_Dem.png')\n",
    "    plt.clf()"
   ]
  },
  {
   "cell_type": "code",
   "execution_count": 384,
   "id": "b41fd2a1",
   "metadata": {},
   "outputs": [],
   "source": [
    "def save_rep_hist(state, folder):\n",
    "    rep_wins = st_data[state]['R_actual']\n",
    "    data = state_results[state]['R_wins20']\n",
    "    \n",
    "    fig = plt.figure(figsize=(11,11))\n",
    "    \n",
    "    data = np.array(data)\n",
    "    d = np.diff(np.unique(data)).min()\n",
    "    d_min, d_max = data.min(), data.max()\n",
    "    left = d_min - float(d)/2\n",
    "    right = d_max + float(d)/2\n",
    "    \n",
    "    plt.hist(data, bins=np.arange(left, right + d, d), color='grey',\n",
    "             edgecolor='white')\n",
    "    plt.axvline(x=rep_wins, color='red')\n",
    "    \n",
    "    main_ticks = np.arange(d_min, d_max+1, 1)\n",
    "    rep_tick = np.array([rep_wins])\n",
    "    total_ticks = np.concatenate((rep_tick, main_ticks))\n",
    "    \n",
    "    plt.xticks(np.unique(total_ticks), fontsize=22)\n",
    "    fig.supxlabel('Number of Republican Seats Won', fontsize=24, y=0.04)\n",
    "    fig.supylabel('Count', fontsize=24, x=0)\n",
    "    plt.suptitle(st_data[state]['name'], size=28, y=0.94)\n",
    "    plt.yticks(fontsize=22)\n",
    "    \n",
    "    # plt.show()\n",
    "    plt.savefig(folder + '/' + state + '_Rep.png')\n",
    "    plt.clf()"
   ]
  },
  {
   "cell_type": "code",
   "execution_count": null,
   "id": "42b2bc92",
   "metadata": {},
   "outputs": [],
   "source": [
    "for state in states:\n",
    "    try:\n",
    "        save_dem_hist(state, 'final_results')\n",
    "        save_rep_hist(state, 'final_results')\n",
    "        count += 1\n",
    "        print(\"Saved\", state)\n",
    "    except Exception as e:\n",
    "        print(state, '\\b:', e)"
   ]
  },
  {
   "cell_type": "markdown",
   "id": "62345ae9",
   "metadata": {},
   "source": [
    "## Evaluate scores"
   ]
  },
  {
   "cell_type": "code",
   "execution_count": null,
   "id": "2f1284eb",
   "metadata": {},
   "outputs": [],
   "source": [
    "for state in states:\n",
    "    try:\n",
    "        ex_predicted = sum(state_results[state]['D_wins20']) / len(state_results[state]['D_wins20'])\n",
    "        dem = st_data[state]['D_actual']\n",
    "        rep = st_data[state]['R_actual']\n",
    "        total = dem + rep\n",
    "        state_results[state]['score'] = ((ex_predicted - dem) / total) * 100\n",
    "        state_results[state]['seat_diff'] = ex_predicted - dem\n",
    "    \n",
    "    except Exception as e:\n",
    "        print(state, e)"
   ]
  },
  {
   "cell_type": "code",
   "execution_count": 613,
   "id": "dda5fd0b",
   "metadata": {},
   "outputs": [],
   "source": [
    "def get_authority_avg(auth, score_type):\n",
    "    index = basic_st_info.loc[basic_st_info['authority'] == auth].index\n",
    "    s = 0\n",
    "    c = 0\n",
    "    for i in index:\n",
    "        state = states[i]\n",
    "        if score_type == 'eg' or score_type == 'eg_seats':\n",
    "            s += abs(state_results[state][score_type])\n",
    "        else:\n",
    "            s += state_results[state][score_type]\n",
    "        c += 1\n",
    "    avg_score = s / c\n",
    "    return avg_score"
   ]
  },
  {
   "cell_type": "code",
   "execution_count": 614,
   "id": "e86b8aa3",
   "metadata": {},
   "outputs": [],
   "source": [
    "def get_authority_scores(auth, score_type):\n",
    "    index = basic_st_info.loc[basic_st_info['authority'] == auth].index\n",
    "    vals = []\n",
    "    for i in index:\n",
    "        vals.append(state_results[states[i]][score_type])\n",
    "    return vals"
   ]
  },
  {
   "cell_type": "code",
   "execution_count": 619,
   "id": "0f6c6990",
   "metadata": {},
   "outputs": [],
   "source": [
    "def plot_scores(kind, title, color):\n",
    "    split = get_authority_avg('SPLIT', kind)\n",
    "    dem = get_authority_avg('DEM', kind)\n",
    "    rep = get_authority_avg('REP', kind)\n",
    "    irc = get_authority_avg('IRC', kind)\n",
    "    \n",
    "    fig = plt.figure(figsize=(12,17))\n",
    "    bar = plt.bar([1, 2, 3, 4], [split, dem, rep, irc], \n",
    "                  tick_label = ['SPLIT', 'DEM', 'REP', 'IRC'], color=color)\n",
    "    plt.bar_label(bar, [round(x, 2) for x in [split, dem, rep, irc]], \n",
    "                  fontsize=22, padding=10, color=color, weight=\"bold\")\n",
    "    plt.axhline(y=0, color='black')\n",
    "    \n",
    "    plt.xticks(fontsize=22)\n",
    "    plt.yticks(fontsize=22)\n",
    "    fig.supxlabel('Redistricting Authority', fontsize=25, y=0.06)\n",
    "    fig.supylabel(title, fontsize=25, x=0)\n",
    "    # plt.title('Average ' + title + ' of Redistricting Authorities', size=24, y=1.02)\n",
    "    plt.savefig(title + \"_plot.png\")"
   ]
  },
  {
   "cell_type": "code",
   "execution_count": null,
   "id": "9c7b085f",
   "metadata": {},
   "outputs": [],
   "source": [
    "# example of plot_scores\n",
    "plot_scores('eg', 'Efficiency Gap', 'darkgoldenrod')"
   ]
  },
  {
   "cell_type": "code",
   "execution_count": 611,
   "id": "fccffbb9",
   "metadata": {},
   "outputs": [],
   "source": [
    "def plot_states(kind, title):\n",
    "    split = get_authority_scores('SPLIT', kind)\n",
    "    dem = get_authority_scores('DEM', kind)\n",
    "    rep = get_authority_scores('REP', kind)\n",
    "    irc = get_authority_scores('IRC', kind)\n",
    "    \n",
    "    fig = plt.figure(figsize=(10,10))\n",
    "    flierprops = dict(marker='o', markersize=12)\n",
    "    bp = plt.boxplot([split, dem, rep, irc], flierprops=flierprops)\n",
    "    \n",
    "    plt.xticks(ticks=[1,2,3,4], labels=['SPLIT', 'DEM', 'REP', 'IRC'], fontsize=22)\n",
    "    plt.yticks(fontsize=22)\n",
    "    fig.supxlabel('Redistricting Authority', fontsize=24, y=0.02)\n",
    "    fig.supylabel(title, fontsize=18, x=0)\n",
    "    plt.savefig(title + \"_boxplot.png\")\n",
    "    return bp"
   ]
  },
  {
   "cell_type": "code",
   "execution_count": null,
   "id": "0c56c738",
   "metadata": {},
   "outputs": [],
   "source": [
    "# example of plot_states\n",
    "bp = plot_states('seat_diff', 'Difference Between Expected (D) Wins and Actual Wins')"
   ]
  }
 ],
 "metadata": {
  "kernelspec": {
   "display_name": "Python 3 (ipykernel)",
   "language": "python",
   "name": "python3"
  },
  "language_info": {
   "codemirror_mode": {
    "name": "ipython",
    "version": 3
   },
   "file_extension": ".py",
   "mimetype": "text/x-python",
   "name": "python",
   "nbconvert_exporter": "python",
   "pygments_lexer": "ipython3",
   "version": "3.9.7"
  }
 },
 "nbformat": 4,
 "nbformat_minor": 5
}
